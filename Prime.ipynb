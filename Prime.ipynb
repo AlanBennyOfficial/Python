{
 "cells": [
  {
   "cell_type": "markdown",
   "metadata": {},
   "source": [
    "# With Sympy"
   ]
  },
  {
   "cell_type": "code",
   "execution_count": 4,
   "metadata": {},
   "outputs": [
    {
     "name": "stdout",
     "output_type": "stream",
     "text": [
      "5 is prime\n"
     ]
    }
   ],
   "source": [
    "import sympy\n",
    "\n",
    "n = int(input(\"Enter the number:\"))\n",
    "\n",
    "if (sympy.isprime(n)):\n",
    "  print(f\"{n} is prime\")\n",
    "else:\n",
    "  print(f\"{n} is not prime\")"
   ]
  },
  {
   "cell_type": "markdown",
   "metadata": {},
   "source": [
    "# Without Sympy (With Functions)"
   ]
  },
  {
   "cell_type": "code",
   "execution_count": 5,
   "metadata": {},
   "outputs": [
    {
     "name": "stdout",
     "output_type": "stream",
     "text": [
      "5 is prime\n"
     ]
    }
   ],
   "source": [
    "def is_prime(num):\n",
    "  for x in range( 2, num):\n",
    "    if (num%x) == 0:\n",
    "      return False\n",
    "  return True\n",
    "\n",
    "x = int(input(\"Enter the number:\"))\n",
    "if( is_prime(x)):\n",
    "  print(f\"{x} is prime\")\n",
    "else:\n",
    "  print(f\"{x} is not prime\")"
   ]
  },
  {
   "cell_type": "markdown",
   "metadata": {},
   "source": [
    "# With Widgets"
   ]
  },
  {
   "cell_type": "code",
   "execution_count": 6,
   "metadata": {},
   "outputs": [
    {
     "data": {
      "application/vnd.jupyter.widget-view+json": {
       "model_id": "da5e16b4ed4d4775a0d55444aba4afd6",
       "version_major": 2,
       "version_minor": 0
      },
      "text/plain": [
       "Text(value='', description='Number:', placeholder='Enter a number')"
      ]
     },
     "metadata": {},
     "output_type": "display_data"
    },
    {
     "data": {
      "application/vnd.jupyter.widget-view+json": {
       "model_id": "5adf40f807ca4637bf12fbd342043587",
       "version_major": 2,
       "version_minor": 0
      },
      "text/plain": [
       "Button(description='Check Prime', style=ButtonStyle())"
      ]
     },
     "metadata": {},
     "output_type": "display_data"
    },
    {
     "name": "stdout",
     "output_type": "stream",
     "text": [
      "It is prime\n"
     ]
    }
   ],
   "source": [
    "import ipywidgets as widgets\n",
    "from IPython.display import display\n",
    "\n",
    "def is_prime(num):\n",
    "    for x in range(2, num):\n",
    "        if (num % x) == 0:\n",
    "            return False\n",
    "    return True\n",
    "\n",
    "def check_prime(b):\n",
    "    try:\n",
    "        x = int(number_text.value)\n",
    "        if is_prime(x):\n",
    "            print(\"It is prime\")\n",
    "        else:\n",
    "            print(\"It is not prime\")\n",
    "    except Exception as e:\n",
    "        print(\"Invalid input:\", e)\n",
    "\n",
    "number_text = widgets.Text(\n",
    "    value='',\n",
    "    placeholder='Enter a number',\n",
    "    description='Number:',\n",
    "    disabled=False\n",
    ")\n",
    "button = widgets.Button(description=\"Check Prime\")\n",
    "button.on_click(check_prime)\n",
    "\n",
    "display(number_text, button)"
   ]
  }
 ],
 "metadata": {
  "kernelspec": {
   "display_name": "Python 3",
   "language": "python",
   "name": "python3"
  },
  "language_info": {
   "codemirror_mode": {
    "name": "ipython",
    "version": 3
   },
   "file_extension": ".py",
   "mimetype": "text/x-python",
   "name": "python",
   "nbconvert_exporter": "python",
   "pygments_lexer": "ipython3",
   "version": "3.13.1"
  }
 },
 "nbformat": 4,
 "nbformat_minor": 2
}
