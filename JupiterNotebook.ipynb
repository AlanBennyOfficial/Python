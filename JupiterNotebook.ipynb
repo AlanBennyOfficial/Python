import sympy

n = int(input("Enter the number:"))

if (sympy.isprime(n)):
  print("It is prime")
else:
  print("It is not prime")
