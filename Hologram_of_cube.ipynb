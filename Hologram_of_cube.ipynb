{
 "cells": [
  {
   "cell_type": "markdown",
   "metadata": {},
   "source": [
    "# Basic Hologram (using basic concepts):"
   ]
  },
  {
   "cell_type": "code",
   "execution_count": 1,
   "metadata": {},
   "outputs": [
    {
     "name": "stdout",
     "output_type": "stream",
     "text": [
      "       +-------+\n",
      "      /       /|\n",
      "     +-------+ |\n",
      "     |       | +\n",
      "     |       |/ \n",
      "     +-------+  \n"
     ]
    }
   ],
   "source": [
    "def print_cube():\n",
    "    # Each string in the list represents one line of the hologram cube.\n",
    "    cube_lines = [\n",
    "        \"       +-------+\",\n",
    "        \"      /       /|\",\n",
    "        \"     +-------+ |\",\n",
    "        \"     |       | +\",\n",
    "        \"     |       |/ \",\n",
    "        \"     +-------+  \"\n",
    "    ]\n",
    "    \n",
    "    for line in cube_lines:\n",
    "        print(line)\n",
    "\n",
    "if __name__ == \"__main__\":\n",
    "    print_cube()\n"
   ]
  }
 ],
 "metadata": {
  "kernelspec": {
   "display_name": "Python 3",
   "language": "python",
   "name": "python3"
  },
  "language_info": {
   "codemirror_mode": {
    "name": "ipython",
    "version": 3
   },
   "file_extension": ".py",
   "mimetype": "text/x-python",
   "name": "python",
   "nbconvert_exporter": "python",
   "pygments_lexer": "ipython3",
   "version": "3.13.1"
  }
 },
 "nbformat": 4,
 "nbformat_minor": 2
}
